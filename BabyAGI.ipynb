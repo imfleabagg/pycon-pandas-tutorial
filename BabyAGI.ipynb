{
  "cells": [
    {
      "cell_type": "markdown",
      "metadata": {
        "id": "view-in-github",
        "colab_type": "text"
      },
      "source": [
        "<a href=\"https://colab.research.google.com/github/imfleabagg/pycon-pandas-tutorial/blob/master/BabyAGI.ipynb\" target=\"_parent\"><img src=\"https://colab.research.google.com/assets/colab-badge.svg\" alt=\"Open In Colab\"/></a>"
      ]
    },
    {
      "cell_type": "markdown",
      "metadata": {
        "id": "NJlB84OmWn1B"
      },
      "source": [
        "# **BabyAGI : Installation Phase I**\n",
        "\n",
        "Disclaimer : The installation process including the original github can be found at https://github.com/yoheinakajima/babyagi"
      ]
    },
    {
      "cell_type": "code",
      "execution_count": null,
      "metadata": {
        "id": "D6UUc_oMdTVA"
      },
      "outputs": [],
      "source": [
        "pip install pinecone-client"
      ]
    },
    {
      "cell_type": "code",
      "execution_count": null,
      "metadata": {
        "id": "_wop20SHdW6H"
      },
      "outputs": [],
      "source": [
        "import pinecone\n",
        "\n",
        "pinecone.init(\n",
        "\tapi_key='Insert API Key, since we are uploading on github, we removed this part',\n",
        "\tenvironment=' since we are uploading on GitHub, we removed this part.'\n",
        ")\n",
        "index = pinecone.Index('diss')"
      ]
    },
    {
      "cell_type": "code",
      "execution_count": null,
      "metadata": {
        "id": "XqHRS-9wPIdj"
      },
      "outputs": [],
      "source": [
        "# We clone Baby AGI github repository\n",
        "!git clone https://github.com/yoheinakajima/babyagi.git"
      ]
    },
    {
      "cell_type": "code",
      "execution_count": null,
      "metadata": {
        "id": "2ciBuBqBPK5L"
      },
      "outputs": [],
      "source": [
        "%cd /content/babyagi # We change to the right directory"
      ]
    },
    {
      "cell_type": "code",
      "execution_count": null,
      "metadata": {
        "id": "48VA4vevPRBb"
      },
      "outputs": [],
      "source": [
        "!pip install -r requirements.txt # We install the dependencies"
      ]
    },
    {
      "cell_type": "code",
      "execution_count": null,
      "metadata": {
        "id": "K0eg6LDdPVKX"
      },
      "outputs": [],
      "source": [
        "!cp .env.example env.txt # We create a copy of the file , this file will be \".env\" , within which we can directly change the variables"
      ]
    },
    {
      "cell_type": "code",
      "execution_count": null,
      "metadata": {
        "id": "TtzFHZDrTTYz"
      },
      "outputs": [],
      "source": [
        "!cp env.txt .env # We copy/change the file to .env\n"
      ]
    },
    {
      "cell_type": "code",
      "execution_count": null,
      "metadata": {
        "id": "C1Z81lICddkI"
      },
      "outputs": [],
      "source": [
        "!python babyagi.py >Final_Market3.txt # We run the program and > file_name.txt to retrieve the outputs as BabyAGI does not do that"
      ]
    }
  ],
  "metadata": {
    "colab": {
      "provenance": [],
      "authorship_tag": "ABX9TyNkLpSpGYjOQQOYAJM0iWNL",
      "include_colab_link": true
    },
    "kernelspec": {
      "display_name": "Python 3",
      "name": "python3"
    },
    "language_info": {
      "name": "python"
    }
  },
  "nbformat": 4,
  "nbformat_minor": 0
}